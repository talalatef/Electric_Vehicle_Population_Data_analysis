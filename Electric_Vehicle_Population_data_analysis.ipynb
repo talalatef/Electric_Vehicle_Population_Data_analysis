{
 "cells": [
  {
   "cell_type": "markdown",
   "id": "e3a9ec5e-30ae-4242-b313-5c6281a934ac",
   "metadata": {},
   "source": [
    "## import my libraries\n",
    "- pandas: for data manipulation and read the data \n",
    "- matplotlib: for visulisation"
   ]
  },
  {
   "cell_type": "code",
   "execution_count": 72,
   "id": "7bb91bce-203d-4824-9d00-76a6f2ffcde0",
   "metadata": {},
   "outputs": [],
   "source": [
    "%matplotlib inline\n",
    "\n",
    "import matplotlib.pyplot as plt\n",
    "import pandas as pd\n",
    "import seaborn as sns "
   ]
  },
  {
   "cell_type": "markdown",
   "id": "4afd4afe-9c6b-49e5-92cc-59eb4069e5fa",
   "metadata": {},
   "source": [
    "## Data Overview:\n",
    "- Check the size of the dataset (number of rows and columns)\n",
    "- Look for any missing values in the dataset and some other operation to have a good data for analyse"
   ]
  },
  {
   "cell_type": "code",
   "execution_count": 51,
   "id": "a8fc08d7-7bbb-4434-b6ce-e5188855b440",
   "metadata": {},
   "outputs": [],
   "source": [
    "# read our data with pandas in dataframe to good manipulation\n",
    "df = pd.read_csv('Electric_Vehicle_Population_Data.csv')"
   ]
  },
  {
   "cell_type": "code",
   "execution_count": 52,
   "id": "419f7143-6ef0-4dfe-9bfe-2d1a94f3d4ec",
   "metadata": {},
   "outputs": [
    {
     "data": {
      "text/html": [
       "<div>\n",
       "<style scoped>\n",
       "    .dataframe tbody tr th:only-of-type {\n",
       "        vertical-align: middle;\n",
       "    }\n",
       "\n",
       "    .dataframe tbody tr th {\n",
       "        vertical-align: top;\n",
       "    }\n",
       "\n",
       "    .dataframe thead th {\n",
       "        text-align: right;\n",
       "    }\n",
       "</style>\n",
       "<table border=\"1\" class=\"dataframe\">\n",
       "  <thead>\n",
       "    <tr style=\"text-align: right;\">\n",
       "      <th></th>\n",
       "      <th>VIN (1-10)</th>\n",
       "      <th>County</th>\n",
       "      <th>City</th>\n",
       "      <th>State</th>\n",
       "      <th>Postal Code</th>\n",
       "      <th>Model Year</th>\n",
       "      <th>Make</th>\n",
       "      <th>Model</th>\n",
       "      <th>Electric Vehicle Type</th>\n",
       "      <th>Clean Alternative Fuel Vehicle (CAFV) Eligibility</th>\n",
       "      <th>Electric Range</th>\n",
       "      <th>Base MSRP</th>\n",
       "      <th>Legislative District</th>\n",
       "      <th>DOL Vehicle ID</th>\n",
       "      <th>Vehicle Location</th>\n",
       "      <th>Electric Utility</th>\n",
       "      <th>2020 Census Tract</th>\n",
       "    </tr>\n",
       "  </thead>\n",
       "  <tbody>\n",
       "    <tr>\n",
       "      <th>0</th>\n",
       "      <td>5YJYGDEF5L</td>\n",
       "      <td>Thurston</td>\n",
       "      <td>Lacey</td>\n",
       "      <td>WA</td>\n",
       "      <td>98516.0</td>\n",
       "      <td>2020</td>\n",
       "      <td>TESLA</td>\n",
       "      <td>MODEL Y</td>\n",
       "      <td>Battery Electric Vehicle (BEV)</td>\n",
       "      <td>Clean Alternative Fuel Vehicle Eligible</td>\n",
       "      <td>291</td>\n",
       "      <td>0</td>\n",
       "      <td>22.0</td>\n",
       "      <td>124535071</td>\n",
       "      <td>POINT (-122.7474291 47.0821119)</td>\n",
       "      <td>PUGET SOUND ENERGY INC</td>\n",
       "      <td>5.306701e+10</td>\n",
       "    </tr>\n",
       "    <tr>\n",
       "      <th>1</th>\n",
       "      <td>1N4BZ1CP1K</td>\n",
       "      <td>King</td>\n",
       "      <td>Sammamish</td>\n",
       "      <td>WA</td>\n",
       "      <td>98074.0</td>\n",
       "      <td>2019</td>\n",
       "      <td>NISSAN</td>\n",
       "      <td>LEAF</td>\n",
       "      <td>Battery Electric Vehicle (BEV)</td>\n",
       "      <td>Clean Alternative Fuel Vehicle Eligible</td>\n",
       "      <td>150</td>\n",
       "      <td>0</td>\n",
       "      <td>45.0</td>\n",
       "      <td>102359449</td>\n",
       "      <td>POINT (-122.0313266 47.6285782)</td>\n",
       "      <td>PUGET SOUND ENERGY INC||CITY OF TACOMA - (WA)</td>\n",
       "      <td>5.303303e+10</td>\n",
       "    </tr>\n",
       "    <tr>\n",
       "      <th>2</th>\n",
       "      <td>5YJXCDE28G</td>\n",
       "      <td>King</td>\n",
       "      <td>Kent</td>\n",
       "      <td>WA</td>\n",
       "      <td>98031.0</td>\n",
       "      <td>2016</td>\n",
       "      <td>TESLA</td>\n",
       "      <td>MODEL X</td>\n",
       "      <td>Battery Electric Vehicle (BEV)</td>\n",
       "      <td>Clean Alternative Fuel Vehicle Eligible</td>\n",
       "      <td>200</td>\n",
       "      <td>0</td>\n",
       "      <td>33.0</td>\n",
       "      <td>228682037</td>\n",
       "      <td>POINT (-122.2012521 47.3931814)</td>\n",
       "      <td>PUGET SOUND ENERGY INC||CITY OF TACOMA - (WA)</td>\n",
       "      <td>5.303303e+10</td>\n",
       "    </tr>\n",
       "    <tr>\n",
       "      <th>3</th>\n",
       "      <td>JHMZC5F37M</td>\n",
       "      <td>Kitsap</td>\n",
       "      <td>Poulsbo</td>\n",
       "      <td>WA</td>\n",
       "      <td>98370.0</td>\n",
       "      <td>2021</td>\n",
       "      <td>HONDA</td>\n",
       "      <td>CLARITY</td>\n",
       "      <td>Plug-in Hybrid Electric Vehicle (PHEV)</td>\n",
       "      <td>Clean Alternative Fuel Vehicle Eligible</td>\n",
       "      <td>47</td>\n",
       "      <td>0</td>\n",
       "      <td>23.0</td>\n",
       "      <td>171566447</td>\n",
       "      <td>POINT (-122.64177 47.737525)</td>\n",
       "      <td>PUGET SOUND ENERGY INC</td>\n",
       "      <td>5.303509e+10</td>\n",
       "    </tr>\n",
       "    <tr>\n",
       "      <th>4</th>\n",
       "      <td>WA1F2AFY4P</td>\n",
       "      <td>Thurston</td>\n",
       "      <td>Olympia</td>\n",
       "      <td>WA</td>\n",
       "      <td>98501.0</td>\n",
       "      <td>2023</td>\n",
       "      <td>AUDI</td>\n",
       "      <td>Q5 E</td>\n",
       "      <td>Plug-in Hybrid Electric Vehicle (PHEV)</td>\n",
       "      <td>Not eligible due to low battery range</td>\n",
       "      <td>23</td>\n",
       "      <td>0</td>\n",
       "      <td>22.0</td>\n",
       "      <td>234923230</td>\n",
       "      <td>POINT (-122.89692 47.043535)</td>\n",
       "      <td>PUGET SOUND ENERGY INC</td>\n",
       "      <td>5.306701e+10</td>\n",
       "    </tr>\n",
       "  </tbody>\n",
       "</table>\n",
       "</div>"
      ],
      "text/plain": [
       "   VIN (1-10)    County       City State  Postal Code  Model Year    Make  \\\n",
       "0  5YJYGDEF5L  Thurston      Lacey    WA      98516.0        2020   TESLA   \n",
       "1  1N4BZ1CP1K      King  Sammamish    WA      98074.0        2019  NISSAN   \n",
       "2  5YJXCDE28G      King       Kent    WA      98031.0        2016   TESLA   \n",
       "3  JHMZC5F37M    Kitsap    Poulsbo    WA      98370.0        2021   HONDA   \n",
       "4  WA1F2AFY4P  Thurston    Olympia    WA      98501.0        2023    AUDI   \n",
       "\n",
       "     Model                   Electric Vehicle Type  \\\n",
       "0  MODEL Y          Battery Electric Vehicle (BEV)   \n",
       "1     LEAF          Battery Electric Vehicle (BEV)   \n",
       "2  MODEL X          Battery Electric Vehicle (BEV)   \n",
       "3  CLARITY  Plug-in Hybrid Electric Vehicle (PHEV)   \n",
       "4     Q5 E  Plug-in Hybrid Electric Vehicle (PHEV)   \n",
       "\n",
       "  Clean Alternative Fuel Vehicle (CAFV) Eligibility  Electric Range  \\\n",
       "0           Clean Alternative Fuel Vehicle Eligible             291   \n",
       "1           Clean Alternative Fuel Vehicle Eligible             150   \n",
       "2           Clean Alternative Fuel Vehicle Eligible             200   \n",
       "3           Clean Alternative Fuel Vehicle Eligible              47   \n",
       "4             Not eligible due to low battery range              23   \n",
       "\n",
       "   Base MSRP  Legislative District  DOL Vehicle ID  \\\n",
       "0          0                  22.0       124535071   \n",
       "1          0                  45.0       102359449   \n",
       "2          0                  33.0       228682037   \n",
       "3          0                  23.0       171566447   \n",
       "4          0                  22.0       234923230   \n",
       "\n",
       "                  Vehicle Location  \\\n",
       "0  POINT (-122.7474291 47.0821119)   \n",
       "1  POINT (-122.0313266 47.6285782)   \n",
       "2  POINT (-122.2012521 47.3931814)   \n",
       "3     POINT (-122.64177 47.737525)   \n",
       "4     POINT (-122.89692 47.043535)   \n",
       "\n",
       "                                Electric Utility  2020 Census Tract  \n",
       "0                         PUGET SOUND ENERGY INC       5.306701e+10  \n",
       "1  PUGET SOUND ENERGY INC||CITY OF TACOMA - (WA)       5.303303e+10  \n",
       "2  PUGET SOUND ENERGY INC||CITY OF TACOMA - (WA)       5.303303e+10  \n",
       "3                         PUGET SOUND ENERGY INC       5.303509e+10  \n",
       "4                         PUGET SOUND ENERGY INC       5.306701e+10  "
      ]
     },
     "execution_count": 52,
     "metadata": {},
     "output_type": "execute_result"
    }
   ],
   "source": [
    "# take an overview on the dataset and see what it have \n",
    "df.head()"
   ]
  },
  {
   "cell_type": "code",
   "execution_count": 53,
   "id": "9eb95f39-78fc-4cf5-9105-abc94d12c349",
   "metadata": {},
   "outputs": [
    {
     "data": {
      "text/plain": [
       "Index(['VIN (1-10)', 'County', 'City', 'State', 'Postal Code', 'Model Year',\n",
       "       'Make', 'Model', 'Electric Vehicle Type',\n",
       "       'Clean Alternative Fuel Vehicle (CAFV) Eligibility', 'Electric Range',\n",
       "       'Base MSRP', 'Legislative District', 'DOL Vehicle ID',\n",
       "       'Vehicle Location', 'Electric Utility', '2020 Census Tract'],\n",
       "      dtype='object')"
      ]
     },
     "execution_count": 53,
     "metadata": {},
     "output_type": "execute_result"
    }
   ],
   "source": [
    "# see the columns to understand the metadata of the dataset and take what i need in my analysis\n",
    "df.columns"
   ]
  },
  {
   "cell_type": "code",
   "execution_count": 54,
   "id": "96036d5c-577f-4185-8a5f-3a1cb2304aaf",
   "metadata": {},
   "outputs": [
    {
     "data": {
      "text/plain": [
       "(163003, 17)"
      ]
     },
     "execution_count": 54,
     "metadata": {},
     "output_type": "execute_result"
    }
   ],
   "source": [
    "# see the shape of the data set\n",
    "df.shape"
   ]
  },
  {
   "cell_type": "code",
   "execution_count": 55,
   "id": "19445a28-5ab5-48d3-ac9c-20f1deb8dc35",
   "metadata": {},
   "outputs": [
    {
     "data": {
      "text/plain": [
       "VIN (1-10)                                             0\n",
       "County                                                 4\n",
       "City                                                   4\n",
       "State                                                  0\n",
       "Postal Code                                            4\n",
       "Model Year                                             0\n",
       "Make                                                   0\n",
       "Model                                                  0\n",
       "Electric Vehicle Type                                  0\n",
       "Clean Alternative Fuel Vehicle (CAFV) Eligibility      0\n",
       "Electric Range                                         0\n",
       "Base MSRP                                              0\n",
       "Legislative District                                 366\n",
       "DOL Vehicle ID                                         0\n",
       "Vehicle Location                                       9\n",
       "Electric Utility                                       4\n",
       "2020 Census Tract                                      4\n",
       "dtype: int64"
      ]
     },
     "execution_count": 55,
     "metadata": {},
     "output_type": "execute_result"
    }
   ],
   "source": [
    "# do my dataset have null values? - this line answer this question\n",
    "df.isnull().sum()"
   ]
  },
  {
   "cell_type": "code",
   "execution_count": 56,
   "id": "ea36e290-83ca-4214-a1cb-9fce08d50983",
   "metadata": {},
   "outputs": [
    {
     "data": {
      "text/plain": [
       "(3413, 17)"
      ]
     },
     "execution_count": 56,
     "metadata": {},
     "output_type": "execute_result"
    }
   ],
   "source": [
    "# we note that the most of the record in Base MSRP(price) is 0 and not give the indicated name of it\n",
    "df[df['Base MSRP'] > 0].shape"
   ]
  },
  {
   "cell_type": "markdown",
   "id": "4758a2a5-5b76-4ace-b9f5-a44dcda4a406",
   "metadata": {},
   "source": [
    "**as we see that only 3413 record have a price**"
   ]
  },
  {
   "cell_type": "markdown",
   "id": "7a3465bb-3523-460b-b39d-67a9f247673a",
   "metadata": {},
   "source": [
    "## Basic Statistics\n",
    "- Check for outliers in numeric columns that might need further investigation.\n",
    "- re-write the dtypes of the columns and some operation to clean my data "
   ]
  },
  {
   "cell_type": "code",
   "execution_count": 57,
   "id": "aab9daec-61d7-4db4-a796-d9f922d61f3f",
   "metadata": {},
   "outputs": [
    {
     "data": {
      "text/html": [
       "<div>\n",
       "<style scoped>\n",
       "    .dataframe tbody tr th:only-of-type {\n",
       "        vertical-align: middle;\n",
       "    }\n",
       "\n",
       "    .dataframe tbody tr th {\n",
       "        vertical-align: top;\n",
       "    }\n",
       "\n",
       "    .dataframe thead th {\n",
       "        text-align: right;\n",
       "    }\n",
       "</style>\n",
       "<table border=\"1\" class=\"dataframe\">\n",
       "  <thead>\n",
       "    <tr style=\"text-align: right;\">\n",
       "      <th></th>\n",
       "      <th>Postal Code</th>\n",
       "      <th>Model Year</th>\n",
       "      <th>Electric Range</th>\n",
       "      <th>Base MSRP</th>\n",
       "      <th>Legislative District</th>\n",
       "      <th>DOL Vehicle ID</th>\n",
       "      <th>2020 Census Tract</th>\n",
       "    </tr>\n",
       "  </thead>\n",
       "  <tbody>\n",
       "    <tr>\n",
       "      <th>count</th>\n",
       "      <td>162999.000000</td>\n",
       "      <td>163003.000000</td>\n",
       "      <td>163003.000000</td>\n",
       "      <td>163003.000000</td>\n",
       "      <td>162637.000000</td>\n",
       "      <td>1.630030e+05</td>\n",
       "      <td>1.629990e+05</td>\n",
       "    </tr>\n",
       "    <tr>\n",
       "      <th>mean</th>\n",
       "      <td>98170.717422</td>\n",
       "      <td>2020.258449</td>\n",
       "      <td>63.382183</td>\n",
       "      <td>1198.344632</td>\n",
       "      <td>29.226861</td>\n",
       "      <td>2.153918e+08</td>\n",
       "      <td>5.297368e+10</td>\n",
       "    </tr>\n",
       "    <tr>\n",
       "      <th>std</th>\n",
       "      <td>2467.998984</td>\n",
       "      <td>3.005057</td>\n",
       "      <td>94.323062</td>\n",
       "      <td>8825.505678</td>\n",
       "      <td>14.841717</td>\n",
       "      <td>7.874180e+07</td>\n",
       "      <td>1.612977e+09</td>\n",
       "    </tr>\n",
       "    <tr>\n",
       "      <th>min</th>\n",
       "      <td>1730.000000</td>\n",
       "      <td>1997.000000</td>\n",
       "      <td>0.000000</td>\n",
       "      <td>0.000000</td>\n",
       "      <td>1.000000</td>\n",
       "      <td>4.385000e+03</td>\n",
       "      <td>1.081042e+09</td>\n",
       "    </tr>\n",
       "    <tr>\n",
       "      <th>25%</th>\n",
       "      <td>98052.000000</td>\n",
       "      <td>2018.000000</td>\n",
       "      <td>0.000000</td>\n",
       "      <td>0.000000</td>\n",
       "      <td>18.000000</td>\n",
       "      <td>1.762441e+08</td>\n",
       "      <td>5.303301e+10</td>\n",
       "    </tr>\n",
       "    <tr>\n",
       "      <th>50%</th>\n",
       "      <td>98122.000000</td>\n",
       "      <td>2021.000000</td>\n",
       "      <td>13.000000</td>\n",
       "      <td>0.000000</td>\n",
       "      <td>33.000000</td>\n",
       "      <td>2.209718e+08</td>\n",
       "      <td>5.303303e+10</td>\n",
       "    </tr>\n",
       "    <tr>\n",
       "      <th>75%</th>\n",
       "      <td>98370.000000</td>\n",
       "      <td>2023.000000</td>\n",
       "      <td>84.000000</td>\n",
       "      <td>0.000000</td>\n",
       "      <td>42.000000</td>\n",
       "      <td>2.495753e+08</td>\n",
       "      <td>5.305307e+10</td>\n",
       "    </tr>\n",
       "    <tr>\n",
       "      <th>max</th>\n",
       "      <td>99577.000000</td>\n",
       "      <td>2024.000000</td>\n",
       "      <td>337.000000</td>\n",
       "      <td>845000.000000</td>\n",
       "      <td>49.000000</td>\n",
       "      <td>4.792548e+08</td>\n",
       "      <td>5.603300e+10</td>\n",
       "    </tr>\n",
       "  </tbody>\n",
       "</table>\n",
       "</div>"
      ],
      "text/plain": [
       "         Postal Code     Model Year  Electric Range      Base MSRP  \\\n",
       "count  162999.000000  163003.000000   163003.000000  163003.000000   \n",
       "mean    98170.717422    2020.258449       63.382183    1198.344632   \n",
       "std      2467.998984       3.005057       94.323062    8825.505678   \n",
       "min      1730.000000    1997.000000        0.000000       0.000000   \n",
       "25%     98052.000000    2018.000000        0.000000       0.000000   \n",
       "50%     98122.000000    2021.000000       13.000000       0.000000   \n",
       "75%     98370.000000    2023.000000       84.000000       0.000000   \n",
       "max     99577.000000    2024.000000      337.000000  845000.000000   \n",
       "\n",
       "       Legislative District  DOL Vehicle ID  2020 Census Tract  \n",
       "count         162637.000000    1.630030e+05       1.629990e+05  \n",
       "mean              29.226861    2.153918e+08       5.297368e+10  \n",
       "std               14.841717    7.874180e+07       1.612977e+09  \n",
       "min                1.000000    4.385000e+03       1.081042e+09  \n",
       "25%               18.000000    1.762441e+08       5.303301e+10  \n",
       "50%               33.000000    2.209718e+08       5.303303e+10  \n",
       "75%               42.000000    2.495753e+08       5.305307e+10  \n",
       "max               49.000000    4.792548e+08       5.603300e+10  "
      ]
     },
     "execution_count": 57,
     "metadata": {},
     "output_type": "execute_result"
    }
   ],
   "source": [
    "df.describe()"
   ]
  },
  {
   "cell_type": "markdown",
   "id": "f5572197-d671-48ce-b60f-49b893e9856e",
   "metadata": {},
   "source": [
    "**as we see there is *many outliers* in `base MSRP` Manufacturer's Suggested Retail Price so we will drop all record with base MSRP = 0**"
   ]
  },
  {
   "cell_type": "code",
   "execution_count": 58,
   "id": "f64fef53-aff4-4170-a8bc-b4a86f0fa005",
   "metadata": {},
   "outputs": [],
   "source": [
    "# take only the record which have a price \n",
    "df = df[df['Base MSRP'] != 0].copy()"
   ]
  },
  {
   "cell_type": "code",
   "execution_count": 59,
   "id": "ebd3d2c8-0a14-4a69-a2fd-7af952d15bc9",
   "metadata": {},
   "outputs": [
    {
     "data": {
      "text/html": [
       "<div>\n",
       "<style scoped>\n",
       "    .dataframe tbody tr th:only-of-type {\n",
       "        vertical-align: middle;\n",
       "    }\n",
       "\n",
       "    .dataframe tbody tr th {\n",
       "        vertical-align: top;\n",
       "    }\n",
       "\n",
       "    .dataframe thead th {\n",
       "        text-align: right;\n",
       "    }\n",
       "</style>\n",
       "<table border=\"1\" class=\"dataframe\">\n",
       "  <thead>\n",
       "    <tr style=\"text-align: right;\">\n",
       "      <th></th>\n",
       "      <th>Postal Code</th>\n",
       "      <th>Model Year</th>\n",
       "      <th>Electric Range</th>\n",
       "      <th>Base MSRP</th>\n",
       "      <th>Legislative District</th>\n",
       "      <th>DOL Vehicle ID</th>\n",
       "      <th>2020 Census Tract</th>\n",
       "    </tr>\n",
       "  </thead>\n",
       "  <tbody>\n",
       "    <tr>\n",
       "      <th>count</th>\n",
       "      <td>3412.000000</td>\n",
       "      <td>3413.000000</td>\n",
       "      <td>3413.000000</td>\n",
       "      <td>3413.000000</td>\n",
       "      <td>3401.000000</td>\n",
       "      <td>3.413000e+03</td>\n",
       "      <td>3.412000e+03</td>\n",
       "    </tr>\n",
       "    <tr>\n",
       "      <th>mean</th>\n",
       "      <td>98128.279308</td>\n",
       "      <td>2015.561969</td>\n",
       "      <td>123.236156</td>\n",
       "      <td>57232.279519</td>\n",
       "      <td>30.338724</td>\n",
       "      <td>2.081607e+08</td>\n",
       "      <td>5.296982e+10</td>\n",
       "    </tr>\n",
       "    <tr>\n",
       "      <th>std</th>\n",
       "      <td>2952.291712</td>\n",
       "      <td>2.476510</td>\n",
       "      <td>89.953055</td>\n",
       "      <td>22652.587694</td>\n",
       "      <td>14.571001</td>\n",
       "      <td>9.868898e+07</td>\n",
       "      <td>1.513434e+09</td>\n",
       "    </tr>\n",
       "    <tr>\n",
       "      <th>min</th>\n",
       "      <td>8048.000000</td>\n",
       "      <td>2008.000000</td>\n",
       "      <td>12.000000</td>\n",
       "      <td>31950.000000</td>\n",
       "      <td>1.000000</td>\n",
       "      <td>9.658900e+04</td>\n",
       "      <td>6.013313e+09</td>\n",
       "    </tr>\n",
       "    <tr>\n",
       "      <th>25%</th>\n",
       "      <td>98045.000000</td>\n",
       "      <td>2013.000000</td>\n",
       "      <td>17.000000</td>\n",
       "      <td>39995.000000</td>\n",
       "      <td>20.000000</td>\n",
       "      <td>1.440754e+08</td>\n",
       "      <td>5.303301e+10</td>\n",
       "    </tr>\n",
       "    <tr>\n",
       "      <th>50%</th>\n",
       "      <td>98119.000000</td>\n",
       "      <td>2016.000000</td>\n",
       "      <td>93.000000</td>\n",
       "      <td>59900.000000</td>\n",
       "      <td>34.000000</td>\n",
       "      <td>1.946194e+08</td>\n",
       "      <td>5.303303e+10</td>\n",
       "    </tr>\n",
       "    <tr>\n",
       "      <th>75%</th>\n",
       "      <td>98365.250000</td>\n",
       "      <td>2018.000000</td>\n",
       "      <td>208.000000</td>\n",
       "      <td>69900.000000</td>\n",
       "      <td>43.000000</td>\n",
       "      <td>2.477661e+08</td>\n",
       "      <td>5.305307e+10</td>\n",
       "    </tr>\n",
       "    <tr>\n",
       "      <th>max</th>\n",
       "      <td>99403.000000</td>\n",
       "      <td>2020.000000</td>\n",
       "      <td>265.000000</td>\n",
       "      <td>845000.000000</td>\n",
       "      <td>49.000000</td>\n",
       "      <td>4.788591e+08</td>\n",
       "      <td>5.307700e+10</td>\n",
       "    </tr>\n",
       "  </tbody>\n",
       "</table>\n",
       "</div>"
      ],
      "text/plain": [
       "        Postal Code   Model Year  Electric Range      Base MSRP  \\\n",
       "count   3412.000000  3413.000000     3413.000000    3413.000000   \n",
       "mean   98128.279308  2015.561969      123.236156   57232.279519   \n",
       "std     2952.291712     2.476510       89.953055   22652.587694   \n",
       "min     8048.000000  2008.000000       12.000000   31950.000000   \n",
       "25%    98045.000000  2013.000000       17.000000   39995.000000   \n",
       "50%    98119.000000  2016.000000       93.000000   59900.000000   \n",
       "75%    98365.250000  2018.000000      208.000000   69900.000000   \n",
       "max    99403.000000  2020.000000      265.000000  845000.000000   \n",
       "\n",
       "       Legislative District  DOL Vehicle ID  2020 Census Tract  \n",
       "count           3401.000000    3.413000e+03       3.412000e+03  \n",
       "mean              30.338724    2.081607e+08       5.296982e+10  \n",
       "std               14.571001    9.868898e+07       1.513434e+09  \n",
       "min                1.000000    9.658900e+04       6.013313e+09  \n",
       "25%               20.000000    1.440754e+08       5.303301e+10  \n",
       "50%               34.000000    1.946194e+08       5.303303e+10  \n",
       "75%               43.000000    2.477661e+08       5.305307e+10  \n",
       "max               49.000000    4.788591e+08       5.307700e+10  "
      ]
     },
     "execution_count": 59,
     "metadata": {},
     "output_type": "execute_result"
    }
   ],
   "source": [
    "# see the statistics for numirc columns \n",
    "df.describe()"
   ]
  },
  {
   "cell_type": "markdown",
   "id": "125b5447-d4ae-436f-9ccf-cf743c1113f9",
   "metadata": {},
   "source": [
    "#### From up statistics we can conclude:\n",
    "- `mean` of the price of an electrical car is `57232.279519`\n",
    "- model year considered that integer type, so we should right it.\n",
    "- and we extract more information such that the mean of the price."
   ]
  },
  {
   "cell_type": "markdown",
   "id": "686a5331-b989-4c39-93e4-ce1d939bd119",
   "metadata": {},
   "source": [
    "**we will work on this dataframe**"
   ]
  },
  {
   "cell_type": "code",
   "execution_count": 60,
   "id": "3e9d5570-e98d-456d-ae68-9ca31e3fa06f",
   "metadata": {},
   "outputs": [
    {
     "data": {
      "text/plain": [
       "VIN (1-10)                                            0\n",
       "County                                                1\n",
       "City                                                  1\n",
       "State                                                 0\n",
       "Postal Code                                           1\n",
       "Model Year                                            0\n",
       "Make                                                  0\n",
       "Model                                                 0\n",
       "Electric Vehicle Type                                 0\n",
       "Clean Alternative Fuel Vehicle (CAFV) Eligibility     0\n",
       "Electric Range                                        0\n",
       "Base MSRP                                             0\n",
       "Legislative District                                 12\n",
       "DOL Vehicle ID                                        0\n",
       "Vehicle Location                                      2\n",
       "Electric Utility                                      1\n",
       "2020 Census Tract                                     1\n",
       "dtype: int64"
      ]
     },
     "execution_count": 60,
     "metadata": {},
     "output_type": "execute_result"
    }
   ],
   "source": [
    "df.isnull().sum()"
   ]
  },
  {
   "cell_type": "code",
   "execution_count": 61,
   "id": "23eaec90-2813-4b41-8bb7-d9e8d8bba747",
   "metadata": {},
   "outputs": [],
   "source": [
    "df = df.dropna()"
   ]
  },
  {
   "cell_type": "code",
   "execution_count": 62,
   "id": "e3f64b5f-ecc0-4625-92bf-b974f81126f4",
   "metadata": {},
   "outputs": [
    {
     "data": {
      "text/plain": [
       "VIN (1-10)                                           0\n",
       "County                                               0\n",
       "City                                                 0\n",
       "State                                                0\n",
       "Postal Code                                          0\n",
       "Model Year                                           0\n",
       "Make                                                 0\n",
       "Model                                                0\n",
       "Electric Vehicle Type                                0\n",
       "Clean Alternative Fuel Vehicle (CAFV) Eligibility    0\n",
       "Electric Range                                       0\n",
       "Base MSRP                                            0\n",
       "Legislative District                                 0\n",
       "DOL Vehicle ID                                       0\n",
       "Vehicle Location                                     0\n",
       "Electric Utility                                     0\n",
       "2020 Census Tract                                    0\n",
       "dtype: int64"
      ]
     },
     "execution_count": 62,
     "metadata": {},
     "output_type": "execute_result"
    }
   ],
   "source": [
    "df.isnull().sum()"
   ]
  },
  {
   "cell_type": "code",
   "execution_count": 63,
   "id": "404aee3d-69dc-49a7-be3c-01711095f2fe",
   "metadata": {},
   "outputs": [
    {
     "data": {
      "text/html": [
       "<div>\n",
       "<style scoped>\n",
       "    .dataframe tbody tr th:only-of-type {\n",
       "        vertical-align: middle;\n",
       "    }\n",
       "\n",
       "    .dataframe tbody tr th {\n",
       "        vertical-align: top;\n",
       "    }\n",
       "\n",
       "    .dataframe thead th {\n",
       "        text-align: right;\n",
       "    }\n",
       "</style>\n",
       "<table border=\"1\" class=\"dataframe\">\n",
       "  <thead>\n",
       "    <tr style=\"text-align: right;\">\n",
       "      <th></th>\n",
       "      <th>VIN (1-10)</th>\n",
       "      <th>County</th>\n",
       "      <th>City</th>\n",
       "      <th>State</th>\n",
       "      <th>Postal Code</th>\n",
       "      <th>Model Year</th>\n",
       "      <th>Make</th>\n",
       "      <th>Model</th>\n",
       "      <th>Electric Vehicle Type</th>\n",
       "      <th>Clean Alternative Fuel Vehicle (CAFV) Eligibility</th>\n",
       "      <th>Electric Range</th>\n",
       "      <th>Base MSRP</th>\n",
       "      <th>Legislative District</th>\n",
       "      <th>DOL Vehicle ID</th>\n",
       "      <th>Vehicle Location</th>\n",
       "      <th>Electric Utility</th>\n",
       "      <th>2020 Census Tract</th>\n",
       "    </tr>\n",
       "  </thead>\n",
       "  <tbody>\n",
       "    <tr>\n",
       "      <th>55</th>\n",
       "      <td>2C4RC1N73K</td>\n",
       "      <td>Kitsap</td>\n",
       "      <td>Port Orchard</td>\n",
       "      <td>WA</td>\n",
       "      <td>98367.0</td>\n",
       "      <td>2019</td>\n",
       "      <td>CHRYSLER</td>\n",
       "      <td>PACIFICA</td>\n",
       "      <td>Plug-in Hybrid Electric Vehicle (PHEV)</td>\n",
       "      <td>Clean Alternative Fuel Vehicle Eligible</td>\n",
       "      <td>32</td>\n",
       "      <td>39995</td>\n",
       "      <td>26.0</td>\n",
       "      <td>476504941</td>\n",
       "      <td>POINT (-122.6847073 47.50524)</td>\n",
       "      <td>PUGET SOUND ENERGY INC</td>\n",
       "      <td>5.303509e+10</td>\n",
       "    </tr>\n",
       "    <tr>\n",
       "      <th>60</th>\n",
       "      <td>KNDJX3AE2G</td>\n",
       "      <td>Snohomish</td>\n",
       "      <td>Snohomish</td>\n",
       "      <td>WA</td>\n",
       "      <td>98296.0</td>\n",
       "      <td>2016</td>\n",
       "      <td>KIA</td>\n",
       "      <td>SOUL</td>\n",
       "      <td>Battery Electric Vehicle (BEV)</td>\n",
       "      <td>Clean Alternative Fuel Vehicle Eligible</td>\n",
       "      <td>93</td>\n",
       "      <td>31950</td>\n",
       "      <td>44.0</td>\n",
       "      <td>303656587</td>\n",
       "      <td>POINT (-122.15134 47.8851158)</td>\n",
       "      <td>PUGET SOUND ENERGY INC</td>\n",
       "      <td>5.306105e+10</td>\n",
       "    </tr>\n",
       "    <tr>\n",
       "      <th>109</th>\n",
       "      <td>LYVBR0DL2J</td>\n",
       "      <td>Kitsap</td>\n",
       "      <td>Bremerton</td>\n",
       "      <td>WA</td>\n",
       "      <td>98310.0</td>\n",
       "      <td>2018</td>\n",
       "      <td>VOLVO</td>\n",
       "      <td>XC60</td>\n",
       "      <td>Plug-in Hybrid Electric Vehicle (PHEV)</td>\n",
       "      <td>Not eligible due to low battery range</td>\n",
       "      <td>17</td>\n",
       "      <td>52900</td>\n",
       "      <td>23.0</td>\n",
       "      <td>240710669</td>\n",
       "      <td>POINT (-122.611365 47.575195)</td>\n",
       "      <td>PUGET SOUND ENERGY INC</td>\n",
       "      <td>5.303508e+10</td>\n",
       "    </tr>\n",
       "    <tr>\n",
       "      <th>158</th>\n",
       "      <td>5YJSA1CN1D</td>\n",
       "      <td>King</td>\n",
       "      <td>Bellevue</td>\n",
       "      <td>WA</td>\n",
       "      <td>98006.0</td>\n",
       "      <td>2013</td>\n",
       "      <td>TESLA</td>\n",
       "      <td>MODEL S</td>\n",
       "      <td>Battery Electric Vehicle (BEV)</td>\n",
       "      <td>Clean Alternative Fuel Vehicle Eligible</td>\n",
       "      <td>208</td>\n",
       "      <td>69900</td>\n",
       "      <td>41.0</td>\n",
       "      <td>255856457</td>\n",
       "      <td>POINT (-122.16937 47.571015)</td>\n",
       "      <td>PUGET SOUND ENERGY INC||CITY OF TACOMA - (WA)</td>\n",
       "      <td>5.303302e+10</td>\n",
       "    </tr>\n",
       "    <tr>\n",
       "      <th>301</th>\n",
       "      <td>LYVBR0DLXK</td>\n",
       "      <td>King</td>\n",
       "      <td>Kirkland</td>\n",
       "      <td>WA</td>\n",
       "      <td>98034.0</td>\n",
       "      <td>2019</td>\n",
       "      <td>VOLVO</td>\n",
       "      <td>XC60</td>\n",
       "      <td>Plug-in Hybrid Electric Vehicle (PHEV)</td>\n",
       "      <td>Not eligible due to low battery range</td>\n",
       "      <td>17</td>\n",
       "      <td>52900</td>\n",
       "      <td>1.0</td>\n",
       "      <td>203022592</td>\n",
       "      <td>POINT (-122.209285 47.71124)</td>\n",
       "      <td>PUGET SOUND ENERGY INC||CITY OF TACOMA - (WA)</td>\n",
       "      <td>5.303302e+10</td>\n",
       "    </tr>\n",
       "  </tbody>\n",
       "</table>\n",
       "</div>"
      ],
      "text/plain": [
       "     VIN (1-10)     County          City State  Postal Code  Model Year  \\\n",
       "55   2C4RC1N73K     Kitsap  Port Orchard    WA      98367.0        2019   \n",
       "60   KNDJX3AE2G  Snohomish     Snohomish    WA      98296.0        2016   \n",
       "109  LYVBR0DL2J     Kitsap     Bremerton    WA      98310.0        2018   \n",
       "158  5YJSA1CN1D       King      Bellevue    WA      98006.0        2013   \n",
       "301  LYVBR0DLXK       King      Kirkland    WA      98034.0        2019   \n",
       "\n",
       "         Make     Model                   Electric Vehicle Type  \\\n",
       "55   CHRYSLER  PACIFICA  Plug-in Hybrid Electric Vehicle (PHEV)   \n",
       "60        KIA      SOUL          Battery Electric Vehicle (BEV)   \n",
       "109     VOLVO      XC60  Plug-in Hybrid Electric Vehicle (PHEV)   \n",
       "158     TESLA   MODEL S          Battery Electric Vehicle (BEV)   \n",
       "301     VOLVO      XC60  Plug-in Hybrid Electric Vehicle (PHEV)   \n",
       "\n",
       "    Clean Alternative Fuel Vehicle (CAFV) Eligibility  Electric Range  \\\n",
       "55            Clean Alternative Fuel Vehicle Eligible              32   \n",
       "60            Clean Alternative Fuel Vehicle Eligible              93   \n",
       "109             Not eligible due to low battery range              17   \n",
       "158           Clean Alternative Fuel Vehicle Eligible             208   \n",
       "301             Not eligible due to low battery range              17   \n",
       "\n",
       "     Base MSRP  Legislative District  DOL Vehicle ID  \\\n",
       "55       39995                  26.0       476504941   \n",
       "60       31950                  44.0       303656587   \n",
       "109      52900                  23.0       240710669   \n",
       "158      69900                  41.0       255856457   \n",
       "301      52900                   1.0       203022592   \n",
       "\n",
       "                  Vehicle Location  \\\n",
       "55   POINT (-122.6847073 47.50524)   \n",
       "60   POINT (-122.15134 47.8851158)   \n",
       "109  POINT (-122.611365 47.575195)   \n",
       "158   POINT (-122.16937 47.571015)   \n",
       "301   POINT (-122.209285 47.71124)   \n",
       "\n",
       "                                  Electric Utility  2020 Census Tract  \n",
       "55                          PUGET SOUND ENERGY INC       5.303509e+10  \n",
       "60                          PUGET SOUND ENERGY INC       5.306105e+10  \n",
       "109                         PUGET SOUND ENERGY INC       5.303508e+10  \n",
       "158  PUGET SOUND ENERGY INC||CITY OF TACOMA - (WA)       5.303302e+10  \n",
       "301  PUGET SOUND ENERGY INC||CITY OF TACOMA - (WA)       5.303302e+10  "
      ]
     },
     "execution_count": 63,
     "metadata": {},
     "output_type": "execute_result"
    }
   ],
   "source": [
    "df.head()"
   ]
  },
  {
   "cell_type": "code",
   "execution_count": 64,
   "id": "e33ed903-53eb-40bf-9d16-1bf244a902e9",
   "metadata": {},
   "outputs": [],
   "source": [
    "# drop unused columns in the analysis\n",
    "df.drop(['VIN (1-10)', 'Postal Code', 'DOL Vehicle ID', 'Vehicle Location'], axis = 1, inplace = True)"
   ]
  },
  {
   "cell_type": "code",
   "execution_count": 65,
   "id": "70d86251-1123-4659-ac90-ca12ebb7c830",
   "metadata": {},
   "outputs": [
    {
     "data": {
      "text/html": [
       "<div>\n",
       "<style scoped>\n",
       "    .dataframe tbody tr th:only-of-type {\n",
       "        vertical-align: middle;\n",
       "    }\n",
       "\n",
       "    .dataframe tbody tr th {\n",
       "        vertical-align: top;\n",
       "    }\n",
       "\n",
       "    .dataframe thead th {\n",
       "        text-align: right;\n",
       "    }\n",
       "</style>\n",
       "<table border=\"1\" class=\"dataframe\">\n",
       "  <thead>\n",
       "    <tr style=\"text-align: right;\">\n",
       "      <th></th>\n",
       "      <th>County</th>\n",
       "      <th>City</th>\n",
       "      <th>State</th>\n",
       "      <th>Model Year</th>\n",
       "      <th>Make</th>\n",
       "      <th>Model</th>\n",
       "      <th>Electric Vehicle Type</th>\n",
       "      <th>Clean Alternative Fuel Vehicle (CAFV) Eligibility</th>\n",
       "      <th>Electric Range</th>\n",
       "      <th>Base MSRP</th>\n",
       "      <th>Legislative District</th>\n",
       "      <th>Electric Utility</th>\n",
       "      <th>2020 Census Tract</th>\n",
       "    </tr>\n",
       "  </thead>\n",
       "  <tbody>\n",
       "    <tr>\n",
       "      <th>55</th>\n",
       "      <td>Kitsap</td>\n",
       "      <td>Port Orchard</td>\n",
       "      <td>WA</td>\n",
       "      <td>2019</td>\n",
       "      <td>CHRYSLER</td>\n",
       "      <td>PACIFICA</td>\n",
       "      <td>Plug-in Hybrid Electric Vehicle (PHEV)</td>\n",
       "      <td>Clean Alternative Fuel Vehicle Eligible</td>\n",
       "      <td>32</td>\n",
       "      <td>39995</td>\n",
       "      <td>26.0</td>\n",
       "      <td>PUGET SOUND ENERGY INC</td>\n",
       "      <td>5.303509e+10</td>\n",
       "    </tr>\n",
       "    <tr>\n",
       "      <th>60</th>\n",
       "      <td>Snohomish</td>\n",
       "      <td>Snohomish</td>\n",
       "      <td>WA</td>\n",
       "      <td>2016</td>\n",
       "      <td>KIA</td>\n",
       "      <td>SOUL</td>\n",
       "      <td>Battery Electric Vehicle (BEV)</td>\n",
       "      <td>Clean Alternative Fuel Vehicle Eligible</td>\n",
       "      <td>93</td>\n",
       "      <td>31950</td>\n",
       "      <td>44.0</td>\n",
       "      <td>PUGET SOUND ENERGY INC</td>\n",
       "      <td>5.306105e+10</td>\n",
       "    </tr>\n",
       "    <tr>\n",
       "      <th>109</th>\n",
       "      <td>Kitsap</td>\n",
       "      <td>Bremerton</td>\n",
       "      <td>WA</td>\n",
       "      <td>2018</td>\n",
       "      <td>VOLVO</td>\n",
       "      <td>XC60</td>\n",
       "      <td>Plug-in Hybrid Electric Vehicle (PHEV)</td>\n",
       "      <td>Not eligible due to low battery range</td>\n",
       "      <td>17</td>\n",
       "      <td>52900</td>\n",
       "      <td>23.0</td>\n",
       "      <td>PUGET SOUND ENERGY INC</td>\n",
       "      <td>5.303508e+10</td>\n",
       "    </tr>\n",
       "    <tr>\n",
       "      <th>158</th>\n",
       "      <td>King</td>\n",
       "      <td>Bellevue</td>\n",
       "      <td>WA</td>\n",
       "      <td>2013</td>\n",
       "      <td>TESLA</td>\n",
       "      <td>MODEL S</td>\n",
       "      <td>Battery Electric Vehicle (BEV)</td>\n",
       "      <td>Clean Alternative Fuel Vehicle Eligible</td>\n",
       "      <td>208</td>\n",
       "      <td>69900</td>\n",
       "      <td>41.0</td>\n",
       "      <td>PUGET SOUND ENERGY INC||CITY OF TACOMA - (WA)</td>\n",
       "      <td>5.303302e+10</td>\n",
       "    </tr>\n",
       "    <tr>\n",
       "      <th>301</th>\n",
       "      <td>King</td>\n",
       "      <td>Kirkland</td>\n",
       "      <td>WA</td>\n",
       "      <td>2019</td>\n",
       "      <td>VOLVO</td>\n",
       "      <td>XC60</td>\n",
       "      <td>Plug-in Hybrid Electric Vehicle (PHEV)</td>\n",
       "      <td>Not eligible due to low battery range</td>\n",
       "      <td>17</td>\n",
       "      <td>52900</td>\n",
       "      <td>1.0</td>\n",
       "      <td>PUGET SOUND ENERGY INC||CITY OF TACOMA - (WA)</td>\n",
       "      <td>5.303302e+10</td>\n",
       "    </tr>\n",
       "  </tbody>\n",
       "</table>\n",
       "</div>"
      ],
      "text/plain": [
       "        County          City State  Model Year      Make     Model  \\\n",
       "55      Kitsap  Port Orchard    WA        2019  CHRYSLER  PACIFICA   \n",
       "60   Snohomish     Snohomish    WA        2016       KIA      SOUL   \n",
       "109     Kitsap     Bremerton    WA        2018     VOLVO      XC60   \n",
       "158       King      Bellevue    WA        2013     TESLA   MODEL S   \n",
       "301       King      Kirkland    WA        2019     VOLVO      XC60   \n",
       "\n",
       "                      Electric Vehicle Type  \\\n",
       "55   Plug-in Hybrid Electric Vehicle (PHEV)   \n",
       "60           Battery Electric Vehicle (BEV)   \n",
       "109  Plug-in Hybrid Electric Vehicle (PHEV)   \n",
       "158          Battery Electric Vehicle (BEV)   \n",
       "301  Plug-in Hybrid Electric Vehicle (PHEV)   \n",
       "\n",
       "    Clean Alternative Fuel Vehicle (CAFV) Eligibility  Electric Range  \\\n",
       "55            Clean Alternative Fuel Vehicle Eligible              32   \n",
       "60            Clean Alternative Fuel Vehicle Eligible              93   \n",
       "109             Not eligible due to low battery range              17   \n",
       "158           Clean Alternative Fuel Vehicle Eligible             208   \n",
       "301             Not eligible due to low battery range              17   \n",
       "\n",
       "     Base MSRP  Legislative District  \\\n",
       "55       39995                  26.0   \n",
       "60       31950                  44.0   \n",
       "109      52900                  23.0   \n",
       "158      69900                  41.0   \n",
       "301      52900                   1.0   \n",
       "\n",
       "                                  Electric Utility  2020 Census Tract  \n",
       "55                          PUGET SOUND ENERGY INC       5.303509e+10  \n",
       "60                          PUGET SOUND ENERGY INC       5.306105e+10  \n",
       "109                         PUGET SOUND ENERGY INC       5.303508e+10  \n",
       "158  PUGET SOUND ENERGY INC||CITY OF TACOMA - (WA)       5.303302e+10  \n",
       "301  PUGET SOUND ENERGY INC||CITY OF TACOMA - (WA)       5.303302e+10  "
      ]
     },
     "execution_count": 65,
     "metadata": {},
     "output_type": "execute_result"
    }
   ],
   "source": [
    "df.head()"
   ]
  },
  {
   "cell_type": "code",
   "execution_count": 66,
   "id": "18699fb3-32c0-425c-943a-e2bc6648e21a",
   "metadata": {},
   "outputs": [
    {
     "data": {
      "text/plain": [
       "County                                                object\n",
       "City                                                  object\n",
       "State                                                 object\n",
       "Model Year                                             int64\n",
       "Make                                                  object\n",
       "Model                                                 object\n",
       "Electric Vehicle Type                                 object\n",
       "Clean Alternative Fuel Vehicle (CAFV) Eligibility     object\n",
       "Electric Range                                         int64\n",
       "Base MSRP                                              int64\n",
       "Legislative District                                 float64\n",
       "Electric Utility                                      object\n",
       "2020 Census Tract                                    float64\n",
       "dtype: object"
      ]
     },
     "execution_count": 66,
     "metadata": {},
     "output_type": "execute_result"
    }
   ],
   "source": [
    "# let's see the datatypes\n",
    "df.dtypes"
   ]
  },
  {
   "cell_type": "markdown",
   "id": "ea564fe3-2470-4967-9cc7-e574aefd89e0",
   "metadata": {},
   "source": [
    "**we want to change the dtype of `model year`**"
   ]
  },
  {
   "cell_type": "code",
   "execution_count": 67,
   "id": "13900475-4301-4604-a304-942655ad3902",
   "metadata": {},
   "outputs": [],
   "source": [
    "df['Model Year'] = df['Model Year'].astype('category')"
   ]
  },
  {
   "cell_type": "code",
   "execution_count": 68,
   "id": "b8e39c7d-5107-4a70-bef4-0e275b9f29a8",
   "metadata": {},
   "outputs": [
    {
     "data": {
      "text/plain": [
       "55        2019\n",
       "60        2016\n",
       "109       2018\n",
       "158       2013\n",
       "301       2019\n",
       "          ... \n",
       "162449    2013\n",
       "162555    2013\n",
       "162605    2017\n",
       "162839    2016\n",
       "162850    2016\n",
       "Name: Model Year, Length: 3400, dtype: category\n",
       "Categories (12, int64): [2008, 2010, 2011, 2012, ..., 2017, 2018, 2019, 2020]"
      ]
     },
     "execution_count": 68,
     "metadata": {},
     "output_type": "execute_result"
    }
   ],
   "source": [
    "df['Model Year']"
   ]
  },
  {
   "cell_type": "code",
   "execution_count": 69,
   "id": "ada68492-fcd4-478f-bfed-2a3417dde56f",
   "metadata": {},
   "outputs": [
    {
     "data": {
      "text/plain": [
       "County                                                 object\n",
       "City                                                   object\n",
       "State                                                  object\n",
       "Model Year                                           category\n",
       "Make                                                   object\n",
       "Model                                                  object\n",
       "Electric Vehicle Type                                  object\n",
       "Clean Alternative Fuel Vehicle (CAFV) Eligibility      object\n",
       "Electric Range                                          int64\n",
       "Base MSRP                                               int64\n",
       "Legislative District                                  float64\n",
       "Electric Utility                                       object\n",
       "2020 Census Tract                                     float64\n",
       "dtype: object"
      ]
     },
     "execution_count": 69,
     "metadata": {},
     "output_type": "execute_result"
    }
   ],
   "source": [
    "df.dtypes"
   ]
  },
  {
   "cell_type": "markdown",
   "id": "c4421c2d-3202-4f2b-b435-a6fb05feb0a3",
   "metadata": {},
   "source": [
    "## Descriptive Statistics:\r\n",
    "Use the` describe(`) method to get descriptive statistics for numeric columns like 'Electric Range', 'Base MSRP', and 'Legislative District'. This will give you an overview of the central tendency, dispersion, and other statistics for these columns."
   ]
  },
  {
   "cell_type": "code",
   "execution_count": 70,
   "id": "5d88c250-e08a-405e-8c99-d5a96a8db0e7",
   "metadata": {},
   "outputs": [
    {
     "data": {
      "text/html": [
       "<div>\n",
       "<style scoped>\n",
       "    .dataframe tbody tr th:only-of-type {\n",
       "        vertical-align: middle;\n",
       "    }\n",
       "\n",
       "    .dataframe tbody tr th {\n",
       "        vertical-align: top;\n",
       "    }\n",
       "\n",
       "    .dataframe thead th {\n",
       "        text-align: right;\n",
       "    }\n",
       "</style>\n",
       "<table border=\"1\" class=\"dataframe\">\n",
       "  <thead>\n",
       "    <tr style=\"text-align: right;\">\n",
       "      <th></th>\n",
       "      <th>Electric Range</th>\n",
       "      <th>Base MSRP</th>\n",
       "      <th>Legislative District</th>\n",
       "      <th>2020 Census Tract</th>\n",
       "    </tr>\n",
       "  </thead>\n",
       "  <tbody>\n",
       "    <tr>\n",
       "      <th>count</th>\n",
       "      <td>3400.000000</td>\n",
       "      <td>3400.000000</td>\n",
       "      <td>3400.000000</td>\n",
       "      <td>3.400000e+03</td>\n",
       "    </tr>\n",
       "    <tr>\n",
       "      <th>mean</th>\n",
       "      <td>123.232941</td>\n",
       "      <td>57211.567647</td>\n",
       "      <td>30.342059</td>\n",
       "      <td>5.303989e+10</td>\n",
       "    </tr>\n",
       "    <tr>\n",
       "      <th>std</th>\n",
       "      <td>89.942497</td>\n",
       "      <td>22645.627616</td>\n",
       "      <td>14.571846</td>\n",
       "      <td>1.586274e+07</td>\n",
       "    </tr>\n",
       "    <tr>\n",
       "      <th>min</th>\n",
       "      <td>12.000000</td>\n",
       "      <td>31950.000000</td>\n",
       "      <td>1.000000</td>\n",
       "      <td>5.300396e+10</td>\n",
       "    </tr>\n",
       "    <tr>\n",
       "      <th>25%</th>\n",
       "      <td>17.000000</td>\n",
       "      <td>39995.000000</td>\n",
       "      <td>20.000000</td>\n",
       "      <td>5.303301e+10</td>\n",
       "    </tr>\n",
       "    <tr>\n",
       "      <th>50%</th>\n",
       "      <td>93.000000</td>\n",
       "      <td>59900.000000</td>\n",
       "      <td>34.000000</td>\n",
       "      <td>5.303303e+10</td>\n",
       "    </tr>\n",
       "    <tr>\n",
       "      <th>75%</th>\n",
       "      <td>208.000000</td>\n",
       "      <td>69900.000000</td>\n",
       "      <td>43.000000</td>\n",
       "      <td>5.305307e+10</td>\n",
       "    </tr>\n",
       "    <tr>\n",
       "      <th>max</th>\n",
       "      <td>265.000000</td>\n",
       "      <td>845000.000000</td>\n",
       "      <td>49.000000</td>\n",
       "      <td>5.307700e+10</td>\n",
       "    </tr>\n",
       "  </tbody>\n",
       "</table>\n",
       "</div>"
      ],
      "text/plain": [
       "       Electric Range      Base MSRP  Legislative District  2020 Census Tract\n",
       "count     3400.000000    3400.000000           3400.000000       3.400000e+03\n",
       "mean       123.232941   57211.567647             30.342059       5.303989e+10\n",
       "std         89.942497   22645.627616             14.571846       1.586274e+07\n",
       "min         12.000000   31950.000000              1.000000       5.300396e+10\n",
       "25%         17.000000   39995.000000             20.000000       5.303301e+10\n",
       "50%         93.000000   59900.000000             34.000000       5.303303e+10\n",
       "75%        208.000000   69900.000000             43.000000       5.305307e+10\n",
       "max        265.000000  845000.000000             49.000000       5.307700e+10"
      ]
     },
     "execution_count": 70,
     "metadata": {},
     "output_type": "execute_result"
    }
   ],
   "source": [
    "df.describe()"
   ]
  },
  {
   "cell_type": "markdown",
   "id": "b25261ee-096f-4dfa-98b3-de43c496b815",
   "metadata": {},
   "source": [
    "## Categorical Column Analysis:\r\n",
    "For categorical columns like 'County', 'City', 'State', 'Make', 'Model', 'Electric Vehicle Type', and 'Electric Utility', you can use`describe()`) to get a count of unique value and other informations."
   ]
  },
  {
   "cell_type": "code",
   "execution_count": 71,
   "id": "7d0003e2-6431-40a8-9770-58372cfee9f8",
   "metadata": {},
   "outputs": [
    {
     "data": {
      "text/html": [
       "<div>\n",
       "<style scoped>\n",
       "    .dataframe tbody tr th:only-of-type {\n",
       "        vertical-align: middle;\n",
       "    }\n",
       "\n",
       "    .dataframe tbody tr th {\n",
       "        vertical-align: top;\n",
       "    }\n",
       "\n",
       "    .dataframe thead th {\n",
       "        text-align: right;\n",
       "    }\n",
       "</style>\n",
       "<table border=\"1\" class=\"dataframe\">\n",
       "  <thead>\n",
       "    <tr style=\"text-align: right;\">\n",
       "      <th></th>\n",
       "      <th>County</th>\n",
       "      <th>City</th>\n",
       "      <th>State</th>\n",
       "      <th>Model Year</th>\n",
       "      <th>Make</th>\n",
       "      <th>Model</th>\n",
       "      <th>Electric Vehicle Type</th>\n",
       "      <th>Clean Alternative Fuel Vehicle (CAFV) Eligibility</th>\n",
       "      <th>Electric Utility</th>\n",
       "    </tr>\n",
       "  </thead>\n",
       "  <tbody>\n",
       "    <tr>\n",
       "      <th>count</th>\n",
       "      <td>3400</td>\n",
       "      <td>3400</td>\n",
       "      <td>3400</td>\n",
       "      <td>3400</td>\n",
       "      <td>3400</td>\n",
       "      <td>3400</td>\n",
       "      <td>3400</td>\n",
       "      <td>3400</td>\n",
       "      <td>3400</td>\n",
       "    </tr>\n",
       "    <tr>\n",
       "      <th>unique</th>\n",
       "      <td>35</td>\n",
       "      <td>228</td>\n",
       "      <td>1</td>\n",
       "      <td>12</td>\n",
       "      <td>11</td>\n",
       "      <td>18</td>\n",
       "      <td>2</td>\n",
       "      <td>2</td>\n",
       "      <td>50</td>\n",
       "    </tr>\n",
       "    <tr>\n",
       "      <th>top</th>\n",
       "      <td>King</td>\n",
       "      <td>Seattle</td>\n",
       "      <td>WA</td>\n",
       "      <td>2013</td>\n",
       "      <td>TESLA</td>\n",
       "      <td>MODEL S</td>\n",
       "      <td>Battery Electric Vehicle (BEV)</td>\n",
       "      <td>Clean Alternative Fuel Vehicle Eligible</td>\n",
       "      <td>PUGET SOUND ENERGY INC||CITY OF TACOMA - (WA)</td>\n",
       "    </tr>\n",
       "    <tr>\n",
       "      <th>freq</th>\n",
       "      <td>1769</td>\n",
       "      <td>565</td>\n",
       "      <td>3400</td>\n",
       "      <td>761</td>\n",
       "      <td>1599</td>\n",
       "      <td>1553</td>\n",
       "      <td>2196</td>\n",
       "      <td>2339</td>\n",
       "      <td>1251</td>\n",
       "    </tr>\n",
       "  </tbody>\n",
       "</table>\n",
       "</div>"
      ],
      "text/plain": [
       "       County     City State  Model Year   Make    Model  \\\n",
       "count    3400     3400  3400        3400   3400     3400   \n",
       "unique     35      228     1          12     11       18   \n",
       "top      King  Seattle    WA        2013  TESLA  MODEL S   \n",
       "freq     1769      565  3400         761   1599     1553   \n",
       "\n",
       "                 Electric Vehicle Type  \\\n",
       "count                             3400   \n",
       "unique                               2   \n",
       "top     Battery Electric Vehicle (BEV)   \n",
       "freq                              2196   \n",
       "\n",
       "       Clean Alternative Fuel Vehicle (CAFV) Eligibility  \\\n",
       "count                                               3400   \n",
       "unique                                                 2   \n",
       "top              Clean Alternative Fuel Vehicle Eligible   \n",
       "freq                                                2339   \n",
       "\n",
       "                                     Electric Utility  \n",
       "count                                            3400  \n",
       "unique                                             50  \n",
       "top     PUGET SOUND ENERGY INC||CITY OF TACOMA - (WA)  \n",
       "freq                                             1251  "
      ]
     },
     "execution_count": 71,
     "metadata": {},
     "output_type": "execute_result"
    }
   ],
   "source": [
    "df.select_dtypes(exclude=['int64','float64']).describe()"
   ]
  },
  {
   "cell_type": "markdown",
   "id": "298f73d9-5ee4-40b7-8349-3a8f05f45113",
   "metadata": {},
   "source": [
    "## Electric Range and Base MSRP Relationship:\r\n",
    "Explore the relationship between 'Electric Range' and 'Base MSRP'. You can use scatter plots, regression analysis, or other visualization techniques\n",
    "here we use scatter plots."
   ]
  },
  {
   "cell_type": "code",
   "execution_count": 85,
   "id": "a7d32f5c-0530-4461-ba8b-ab92146e6ee1",
   "metadata": {},
   "outputs": [
    {
     "data": {
      "image/png": "[encoded data removed]",
      "text/plain": [
       "<Figure size 1000x600 with 1 Axes>"
      ]
     },
     "metadata": {},
     "output_type": "display_data"
    }
   ],
   "source": [
    "plt.figure(figsize=(10, 6))\n",
    "plt.plot(df['Electric Range'], df['Base MSRP'], linestyle = '',marker='o', color='blue', alpha=0.5)\n",
    "plt.title('Electric Range vs Base MSRP')\n",
    "plt.xlabel('Electric Range')\n",
    "plt.ylabel('Base MSRP')\n",
    "plt.ylim(30000, 70000)\n",
    "plt.grid(True)\n",
    "plt.show()\n"
   ]
  },
  {
   "cell_type": "markdown",
   "id": "5da5b784-cbb7-4c64-9ebd-f3d713851b8c",
   "metadata": {},
   "source": [
    "## Geographical Analysis:\r\n",
    "Explore the geographical distribution of electric vehicles using 'County,' colum because state is only on category, and city is many categorys."
   ]
  },
  {
   "cell_type": "code",
   "execution_count": 81,
   "id": "7224fa77-3657-4402-8b2b-f509c8478a03",
   "metadata": {},
   "outputs": [
    {
     "data": {
      "image/png": "[encoded data removed]",
      "text/plain": [
       "<Figure size 1000x600 with 1 Axes>"
      ]
     },
     "metadata": {},
     "output_type": "display_data"
    }
   ],
   "source": [
    "# Example: Number of electric vehicles per state\n",
    "df['County'].value_counts().plot(kind='bar', figsize=(10, 6), title='Number of Electric Vehicles per County')\n",
    "plt.xlabel('County')\n",
    "plt.ylabel('Number of Electric Vehicles')\n",
    "plt.show()\n"
   ]
  },
  {
   "cell_type": "markdown",
   "id": "7ebaff93-80ee-425d-bad1-e7a55e7000e6",
   "metadata": {},
   "source": [
    "## Time Analysis:\r",
    "weu can perform time-based analysis using the 'Model Year' column."
   ]
  },
  {
   "cell_type": "code",
   "execution_count": 83,
   "id": "04928288-da8c-4ea7-acbe-9ad423ce7b80",
   "metadata": {},
   "outputs": [
    {
     "data": {
      "image/png": "[encoded data removed]",
      "text/plain": [
       "<Figure size 640x480 with 1 Axes>"
      ]
     },
     "metadata": {},
     "output_type": "display_data"
    }
   ],
   "source": [
    "# Example: Number of electric vehicles per year\n",
    "# Step 1: Convert category to string\n",
    "df['Model Year'] = df['Model Year'].astype(str)\n",
    "\n",
    "# Step 2: Convert string to datetime\n",
    "df['Model Year'] = pd.to_datetime(df['Model Year'], errors='coerce')\n",
    "\n",
    "df['Model Year'].dt.year.value_counts().sort_index().plot(kind='bar', title='Number of Electric Vehicles per Year')\n",
    "plt.xlabel('Model Year')\n",
    "plt.ylabel('Number of Electric Vehicles')\n",
    "plt.show()\n"
   ]
  },
  {
   "cell_type": "markdown",
   "id": "f522414b-0d1c-4a97-b8d1-1a7b642ee857",
   "metadata": {},
   "source": [
    "## Box Plot - Electric Range by CAFV Eligibility:\n",
    "This box plot provides a visual representation of the distribution of electric range for each category of CAFV Eligibility."
   ]
  },
  {
   "cell_type": "code",
   "execution_count": 86,
   "id": "da896b0a-1564-4124-bd7d-b0e78cdbf34a",
   "metadata": {},
   "outputs": [
    {
     "name": "stderr",
     "output_type": "stream",
     "text": [
      "C:\\Users\\ELBOSTAN\\anaconda3\\Lib\\site-packages\\seaborn\\_oldcore.py:1498: FutureWarning: is_categorical_dtype is deprecated and will be removed in a future version. Use isinstance(dtype, CategoricalDtype) instead\n",
      "  if pd.api.types.is_categorical_dtype(vector):\n",
      "C:\\Users\\ELBOSTAN\\anaconda3\\Lib\\site-packages\\seaborn\\_oldcore.py:1498: FutureWarning: is_categorical_dtype is deprecated and will be removed in a future version. Use isinstance(dtype, CategoricalDtype) instead\n",
      "  if pd.api.types.is_categorical_dtype(vector):\n",
      "C:\\Users\\ELBOSTAN\\anaconda3\\Lib\\site-packages\\seaborn\\_oldcore.py:1498: FutureWarning: is_categorical_dtype is deprecated and will be removed in a future version. Use isinstance(dtype, CategoricalDtype) instead\n",
      "  if pd.api.types.is_categorical_dtype(vector):\n"
     ]
    },
    {
     "data": {
      "image/png": "[encoded data removed]",
      "text/plain": [
       "<Figure size 1200x600 with 1 Axes>"
      ]
     },
     "metadata": {},
     "output_type": "display_data"
    }
   ],
   "source": [
    "plt.figure(figsize=(12, 6))\n",
    "sns.boxplot(x='Clean Alternative Fuel Vehicle (CAFV) Eligibility', y='Electric Range', data=df)\n",
    "plt.title('Electric Range by CAFV Eligibility')\n",
    "plt.xlabel('CAFV Eligibility')\n",
    "plt.ylabel('Electric Range')\n",
    "plt.show()"
   ]
  },
  {
   "cell_type": "markdown",
   "id": "a3092171-a208-4967-9caa-cd746e78debf",
   "metadata": {},
   "source": [
    "## Aggregated Statistics - Mean Electric Range by CAFV Eligibility for Top Five Makes"
   ]
  },
  {
   "cell_type": "code",
   "execution_count": 89,
   "id": "e466d6f7-5892-4081-a5d6-9fc1c91338d9",
   "metadata": {},
   "outputs": [
    {
     "data": {
      "text/html": [
       "<div>\n",
       "<style scoped>\n",
       "    .dataframe tbody tr th:only-of-type {\n",
       "        vertical-align: middle;\n",
       "    }\n",
       "\n",
       "    .dataframe tbody tr th {\n",
       "        vertical-align: top;\n",
       "    }\n",
       "\n",
       "    .dataframe thead th {\n",
       "        text-align: right;\n",
       "    }\n",
       "</style>\n",
       "<table border=\"1\" class=\"dataframe\">\n",
       "  <thead>\n",
       "    <tr style=\"text-align: right;\">\n",
       "      <th>Clean Alternative Fuel Vehicle (CAFV) Eligibility</th>\n",
       "      <th>Clean Alternative Fuel Vehicle Eligible</th>\n",
       "      <th>Not eligible due to low battery range</th>\n",
       "    </tr>\n",
       "    <tr>\n",
       "      <th>Make</th>\n",
       "      <th></th>\n",
       "      <th></th>\n",
       "    </tr>\n",
       "  </thead>\n",
       "  <tbody>\n",
       "    <tr>\n",
       "      <th>BMW</th>\n",
       "      <td>NaN</td>\n",
       "      <td>14.530693</td>\n",
       "    </tr>\n",
       "    <tr>\n",
       "      <th>KIA</th>\n",
       "      <td>95.110553</td>\n",
       "      <td>NaN</td>\n",
       "    </tr>\n",
       "    <tr>\n",
       "      <th>MINI</th>\n",
       "      <td>NaN</td>\n",
       "      <td>12.000000</td>\n",
       "    </tr>\n",
       "    <tr>\n",
       "      <th>TESLA</th>\n",
       "      <td>213.472795</td>\n",
       "      <td>NaN</td>\n",
       "    </tr>\n",
       "    <tr>\n",
       "      <th>VOLVO</th>\n",
       "      <td>NaN</td>\n",
       "      <td>17.544262</td>\n",
       "    </tr>\n",
       "  </tbody>\n",
       "</table>\n",
       "</div>"
      ],
      "text/plain": [
       "Clean Alternative Fuel Vehicle (CAFV) Eligibility  Clean Alternative Fuel Vehicle Eligible  \\\n",
       "Make                                                                                         \n",
       "BMW                                                                                    NaN   \n",
       "KIA                                                                              95.110553   \n",
       "MINI                                                                                   NaN   \n",
       "TESLA                                                                           213.472795   \n",
       "VOLVO                                                                                  NaN   \n",
       "\n",
       "Clean Alternative Fuel Vehicle (CAFV) Eligibility  Not eligible due to low battery range  \n",
       "Make                                                                                      \n",
       "BMW                                                                            14.530693  \n",
       "KIA                                                                                  NaN  \n",
       "MINI                                                                           12.000000  \n",
       "TESLA                                                                                NaN  \n",
       "VOLVO                                                                          17.544262  "
      ]
     },
     "execution_count": 89,
     "metadata": {},
     "output_type": "execute_result"
    }
   ],
   "source": [
    "top_five_makes = df['Make'].value_counts().nlargest(5).index\n",
    "\n",
    "# Filter DataFrame for the top five makes\n",
    "df_top_five_makes = df[df['Make'].isin(top_five_makes)]\n",
    "mean_range_by_cafv_make = df_top_five_makes.groupby(['Make', 'Clean Alternative Fuel Vehicle (CAFV) Eligibility'])['Electric Range'].mean().unstack()\n",
    "mean_range_by_cafv_make"
   ]
  },
  {
   "cell_type": "markdown",
   "id": "0f84ebf0-618e-4ba0-8981-dc6d7ee49510",
   "metadata": {},
   "source": [
    "## Proportion of CAFV Eligibility within Each county for Top Five Makes"
   ]
  },
  {
   "cell_type": "code",
   "execution_count": 91,
   "id": "4bde3104-90d5-484b-aa34-2428340c605c",
   "metadata": {},
   "outputs": [
    {
     "name": "stderr",
     "output_type": "stream",
     "text": [
      "C:\\Users\\ELBOSTAN\\anaconda3\\Lib\\site-packages\\seaborn\\_oldcore.py:1498: FutureWarning: is_categorical_dtype is deprecated and will be removed in a future version. Use isinstance(dtype, CategoricalDtype) instead\n",
      "  if pd.api.types.is_categorical_dtype(vector):\n",
      "C:\\Users\\ELBOSTAN\\anaconda3\\Lib\\site-packages\\seaborn\\_oldcore.py:1498: FutureWarning: is_categorical_dtype is deprecated and will be removed in a future version. Use isinstance(dtype, CategoricalDtype) instead\n",
      "  if pd.api.types.is_categorical_dtype(vector):\n",
      "C:\\Users\\ELBOSTAN\\anaconda3\\Lib\\site-packages\\seaborn\\_oldcore.py:1498: FutureWarning: is_categorical_dtype is deprecated and will be removed in a future version. Use isinstance(dtype, CategoricalDtype) instead\n",
      "  if pd.api.types.is_categorical_dtype(vector):\n",
      "C:\\Users\\ELBOSTAN\\anaconda3\\Lib\\site-packages\\seaborn\\_oldcore.py:1498: FutureWarning: is_categorical_dtype is deprecated and will be removed in a future version. Use isinstance(dtype, CategoricalDtype) instead\n",
      "  if pd.api.types.is_categorical_dtype(vector):\n"
     ]
    },
    {
     "data": {
      "image/png": "[encoded data removed]",
      "text/plain": [
       "<Figure size 1400x800 with 1 Axes>"
      ]
     },
     "metadata": {},
     "output_type": "display_data"
    }
   ],
   "source": [
    "plt.figure(figsize=(14, 8))\n",
    "sns.countplot(x='County', hue='Clean Alternative Fuel Vehicle (CAFV) Eligibility', data=df_top_five_makes)\n",
    "plt.title('Proportion of CAFV Eligibility within Each county for Top Five Makes')\n",
    "plt.xlabel('State')\n",
    "plt.ylabel('Count')\n",
    "plt.legend(title='CAFV Eligibility')\n",
    "plt.show()"
   ]
  },
  {
   "cell_type": "markdown",
   "id": "9d465001-29be-4bb6-a86b-05f3643918ca",
   "metadata": {},
   "source": [
    "## Base MSRP by Make (Top Five Makes)\n",
    "This box plot provides a visual comparison of the distribution of 'Base MSRP' values for the top five car makers. You can observe the median, quartiles, and potential outliers for each make."
   ]
  },
  {
   "cell_type": "code",
   "execution_count": 93,
   "id": "1188a2ed-fe1f-4f96-bca2-f8fe77b2def8",
   "metadata": {},
   "outputs": [
    {
     "name": "stderr",
     "output_type": "stream",
     "text": [
      "C:\\Users\\ELBOSTAN\\anaconda3\\Lib\\site-packages\\seaborn\\_oldcore.py:1498: FutureWarning: is_categorical_dtype is deprecated and will be removed in a future version. Use isinstance(dtype, CategoricalDtype) instead\n",
      "  if pd.api.types.is_categorical_dtype(vector):\n",
      "C:\\Users\\ELBOSTAN\\anaconda3\\Lib\\site-packages\\seaborn\\_oldcore.py:1498: FutureWarning: is_categorical_dtype is deprecated and will be removed in a future version. Use isinstance(dtype, CategoricalDtype) instead\n",
      "  if pd.api.types.is_categorical_dtype(vector):\n",
      "C:\\Users\\ELBOSTAN\\anaconda3\\Lib\\site-packages\\seaborn\\_oldcore.py:1498: FutureWarning: is_categorical_dtype is deprecated and will be removed in a future version. Use isinstance(dtype, CategoricalDtype) instead\n",
      "  if pd.api.types.is_categorical_dtype(vector):\n"
     ]
    },
    {
     "data": {
      "image/png": "[encoded data removed]",
      "text/plain": [
       "<Figure size 1200x600 with 1 Axes>"
      ]
     },
     "metadata": {},
     "output_type": "display_data"
    }
   ],
   "source": [
    "# Top five makes\n",
    "top_five_makes = df['Make'].value_counts().nlargest(5).index\n",
    "\n",
    "# Filter DataFrame for the top five makes\n",
    "df_top_five_makes = df[df['Make'].isin(top_five_makes)]\n",
    "\n",
    "# Box Plot - Base MSRP by Make\n",
    "plt.figure(figsize=(12, 6))\n",
    "sns.boxplot(x='Make', y='Base MSRP', data=df_top_five_makes)\n",
    "plt.title('Base MSRP by Make (Top Five Makes)')\n",
    "plt.xlabel('Make')\n",
    "plt.ylim(30000, 80000)\n",
    "plt.ylabel('Base MSRP')\n",
    "plt.show()"
   ]
  },
  {
   "cell_type": "code",
   "execution_count": null,
   "id": "efddcb4c-5fe9-4076-988e-a6fc7d157336",
   "metadata": {},
   "outputs": [],
   "source": []
  }
 ],
 "metadata": {
  "kernelspec": {
   "display_name": "Python 3 (ipykernel)",
   "language": "python",
   "name": "python3"
  },
  "language_info": {
   "codemirror_mode": {
    "name": "ipython",
    "version": 3
   },
   "file_extension": ".py",
   "mimetype": "text/x-python",
   "name": "python",
   "nbconvert_exporter": "python",
   "pygments_lexer": "ipython3",
   "version": "3.11.5"
  }
 },
 "nbformat": 4,
 "nbformat_minor": 5
}
